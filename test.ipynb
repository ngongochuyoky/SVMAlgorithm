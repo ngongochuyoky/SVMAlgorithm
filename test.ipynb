{
 "cells": [
  {
   "cell_type": "code",
   "execution_count": 4,
   "metadata": {
    "collapsed": true
   },
   "outputs": [],
   "source": [
    "import sklearn\n",
    "import streamlit as st\n",
    "from pathlib import Path\n",
    "from keras.preprocessing import image\n",
    "import pandas as pd\n",
    "import numpy as np\n",
    "import pandas as pd\n",
    "from sklearn.preprocessing import LabelEncoder\n",
    "from sklearn.model_selection import train_test_split\n",
    "import matplotlib.pyplot as plt\n",
    "from sklearn.metrics import plot_confusion_matrix, plot_roc_curve, plot_precision_recall_curve\n",
    "from sklearn.metrics import precision_score, recall_score\n",
    "\n",
    "\n",
    "\n",
    "from win32com.client import Dispatch\n",
    "\n",
    "import pickle\n",
    "import warnings\n",
    "warnings.filterwarnings(action='ignore')\n",
    "\n",
    "import seaborn as sns\n",
    "import seaborn as sb\n"
   ]
  },
  {
   "cell_type": "code",
   "execution_count": 5,
   "outputs": [
    {
     "name": "stdout",
     "output_type": "stream",
     "text": [
      "[[0.81960785 0.6666667  0.3647059  ... 0.01176471 0.01176471 0.00392157]\n",
      " [0.14117648 0.15686275 0.16862746 ... 0.19215687 0.13333334 0.11372549]\n",
      " [0.18039216 0.20784314 0.23921569 ... 0.7647059  0.7647059  0.01176471]\n",
      " ...\n",
      " [0.60784316 0.69411767 0.8392157  ... 1.         0.99215686 0.99607843]\n",
      " [0.2627451  0.27058825 0.21568628 ... 0.1882353  0.1764706  0.10980392]\n",
      " [0.47843137 0.5294118  0.5019608  ... 0.7019608  0.6666667  0.6784314 ]]\n",
      "[0 0 0 ... 2 2 2]\n",
      "do chinh xac 0.5566666666666666\n"
     ]
    }
   ],
   "source": [
    "svm_classifiers = pickle.load(open(\"models/svm_build.pkl\",\"rb\"))\n",
    "type(svm_classifiers)\n",
    "svm_sklearn1 = pickle.load(open(\"models/svm_sklearn.pkl\",\"rb\"))\n",
    "#đọc dữ liệu hình ảnh, chuyển đổi\n",
    "p = Path(\"Train/\")\n",
    "dirs = p.glob(\"*\")\n",
    "labels_dict = {'cat':0,'dog':1,'sheep':2 }\n",
    "\n",
    "image_data = []\n",
    "labels = []\n",
    "for folder_dir in dirs:\n",
    "    #print(str(folder_dir))\n",
    "    label = str(folder_dir).split(\"\\\\\")[-1][:-1]\n",
    "    for img_path in folder_dir.glob(\"*\"):\n",
    "        img = image.load_img(img_path, target_size=(32,32))\n",
    "        img_array = image.img_to_array(img)\n",
    "        image_data.append(img_array)\n",
    "        labels.append(labels_dict[label])\n",
    "#đọc dữ liệu cho test\n",
    "p_test = Path(\"Test/\")\n",
    "dirs_test = p_test.glob(\"*\")\n",
    "labels_dict_test = {'cat':0,'dog':1,'sheep':2 }\n",
    "image_data_test = []\n",
    "labels_test = []\n",
    "for folder_dir in dirs_test:\n",
    "    #print(str(folder_dir))\n",
    "    label = str(folder_dir).split(\"\\\\\")[-1][:-1]\n",
    "    for img_path in folder_dir.glob(\"*\"):\n",
    "        img = image.load_img(img_path, target_size=(32,32))\n",
    "        img_array = image.img_to_array(img)\n",
    "        image_data_test.append(img_array)\n",
    "        labels_test.append(labels_dict[label])\n",
    "\n",
    "## Chuyển đổi dữ liệu thành mảng numpy train\n",
    "image_data = np.array(image_data, dtype='float32')/255.0\n",
    "labels = np.array(labels)\n",
    "\n",
    "## Chuyển đổi dữ liệu thành mảng numpy train\n",
    "image_data_test = np.array(image_data_test, dtype='float32')/255.0\n",
    "labels_test = np.array(labels_test)\n",
    "## Chuyển đổi dữ liệu cho phân loại Một vs Một\n",
    "\n",
    "#train\n",
    "M = image_data.shape[0]\n",
    "image_data = image_data.reshape(M,-1)\n",
    "\n",
    "#test\n",
    "M1 = image_data_test.shape[0]\n",
    "image_data_test = image_data_test.reshape(M1,-1)\n",
    "\n",
    "number_of_classes = len(np.unique(labels))\n",
    "print(image_data)\n",
    "print(labels)\n",
    "\n",
    "\n",
    "#Prediction\n",
    "def binaryPredict(x,w,b):\n",
    "    z = np.dot(x,w.T) + b\n",
    "    if z >= 0:\n",
    "        return 1\n",
    "    else:\n",
    "        return -1\n",
    "\n",
    "def predict(x):\n",
    "    count = np.zeros((number_of_classes,)) #cat dog 1\n",
    "    for i in range(number_of_classes):\n",
    "        for j in range(i+1, number_of_classes):\n",
    "            w,b = svm_classifiers[i][j]\n",
    "            #\n",
    "            z = binaryPredict(x,w,b)\n",
    "            #(lớp có tổng điểm lớn nhất) được dự đoán là nhãn lớp.\n",
    "            if z==1:\n",
    "                count[j] += 1\n",
    "            else:\n",
    "                count[i] += 1\n",
    "\n",
    "    final_prediction = np.argmax(count)\n",
    "    return final_prediction\n",
    "#độ chính xác\n",
    "\n",
    "def accuracy(x,y):\n",
    "    pred = []\n",
    "    count=0\n",
    "    for i in range(x.shape[0]):\n",
    "        prediction = predict(x[i])\n",
    "        pred.append(prediction)\n",
    "        if prediction==y[i]:\n",
    "            count += 1\n",
    "    return count/x.shape[0], pred\n",
    "\n",
    "acc, ypred = accuracy(image_data_test, labels_test)\n",
    "print(\"do chinh xac\",acc)\n",
    "class_names = ['Cat', 'Dog','Sheep']\n",
    "\n",
    "\n"
   ],
   "metadata": {
    "collapsed": false,
    "pycharm": {
     "name": "#%%\n"
    }
   }
  },
  {
   "cell_type": "code",
   "execution_count": 6,
   "outputs": [
    {
     "data": {
      "text/plain": "      label\n0         0\n1         0\n2         0\n3         0\n4         0\n...     ...\n2996      2\n2997      2\n2998      2\n2999      2\n3000      2\n\n[3001 rows x 1 columns]",
      "text/html": "<div>\n<style scoped>\n    .dataframe tbody tr th:only-of-type {\n        vertical-align: middle;\n    }\n\n    .dataframe tbody tr th {\n        vertical-align: top;\n    }\n\n    .dataframe thead th {\n        text-align: right;\n    }\n</style>\n<table border=\"1\" class=\"dataframe\">\n  <thead>\n    <tr style=\"text-align: right;\">\n      <th></th>\n      <th>label</th>\n    </tr>\n  </thead>\n  <tbody>\n    <tr>\n      <th>0</th>\n      <td>0</td>\n    </tr>\n    <tr>\n      <th>1</th>\n      <td>0</td>\n    </tr>\n    <tr>\n      <th>2</th>\n      <td>0</td>\n    </tr>\n    <tr>\n      <th>3</th>\n      <td>0</td>\n    </tr>\n    <tr>\n      <th>4</th>\n      <td>0</td>\n    </tr>\n    <tr>\n      <th>...</th>\n      <td>...</td>\n    </tr>\n    <tr>\n      <th>2996</th>\n      <td>2</td>\n    </tr>\n    <tr>\n      <th>2997</th>\n      <td>2</td>\n    </tr>\n    <tr>\n      <th>2998</th>\n      <td>2</td>\n    </tr>\n    <tr>\n      <th>2999</th>\n      <td>2</td>\n    </tr>\n    <tr>\n      <th>3000</th>\n      <td>2</td>\n    </tr>\n  </tbody>\n</table>\n<p>3001 rows × 1 columns</p>\n</div>"
     },
     "execution_count": 6,
     "metadata": {},
     "output_type": "execute_result"
    }
   ],
   "source": [
    "df_labels = pd.DataFrame(\n",
    "    labels,\n",
    "    columns=['label']\n",
    ")\n",
    "df_labels"
   ],
   "metadata": {
    "collapsed": false,
    "pycharm": {
     "name": "#%%\n"
    }
   }
  },
  {
   "cell_type": "code",
   "execution_count": 7,
   "outputs": [
    {
     "data": {
      "text/plain": "<Figure size 432x288 with 1 Axes>",
      "image/png": "[encoded data removed]"
     },
     "metadata": {
      "needs_background": "light"
     },
     "output_type": "display_data"
    }
   ],
   "source": [
    "from sklearn.metrics import roc_curve\n",
    "from sklearn import svm\n",
    "svmhuy = svm.SVC(kernel='linear', C=1.0, probability=True).fit(image_data, labels)\n",
    "\n",
    "pred = svmhuy.predict(image_data_test)\n",
    "pred_prob = svmhuy.predict_proba(image_data_test)\n",
    "fpr = {}\n",
    "tpr = {}\n",
    "thresh ={}\n",
    "\n",
    "n_class = 3\n",
    "\n",
    "for i in range(n_class):\n",
    "    fpr[i], tpr[i], thresh[i] = roc_curve(labels_test, pred_prob[:,i], pos_label=i)\n",
    "\n",
    "# plotting\n",
    "plt.plot(fpr[0], tpr[0], linestyle='--',color='orange', label='Class Cat vs Rest')\n",
    "plt.plot(fpr[1], tpr[1], linestyle='--',color='green', label='Class Dog vs Rest')\n",
    "plt.plot(fpr[2], tpr[2], linestyle='--',color='blue', label='Class Sheep vs Rest')\n",
    "plt.title('Multiclass ROC curve')\n",
    "plt.xlabel('False Positive Rate')\n",
    "plt.ylabel('True Positive rate')\n",
    "plt.legend(loc='best')\n",
    "plt.savefig('imagemodels\\Multiclass ROC sklearn',dpi=150)"
   ],
   "metadata": {
    "collapsed": false,
    "pycharm": {
     "name": "#%%\n"
    }
   }
  },
  {
   "cell_type": "code",
   "execution_count": 10,
   "outputs": [
    {
     "name": "stdout",
     "output_type": "stream",
     "text": [
      "[[ 98  80  22]\n",
      " [ 83  80  37]\n",
      " [ 21  23 156]]\n"
     ]
    },
    {
     "data": {
      "text/plain": "<Figure size 432x288 with 2 Axes>",
      "image/png": "[encoded data removed]"
     },
     "metadata": {
      "needs_background": "light"
     },
     "output_type": "display_data"
    },
    {
     "name": "stdout",
     "output_type": "stream",
     "text": [
      "[[110  58  32]\n",
      " [ 84  76  40]\n",
      " [ 34  29 137]]\n"
     ]
    },
    {
     "data": {
      "text/plain": "<Figure size 432x288 with 0 Axes>"
     },
     "metadata": {},
     "output_type": "display_data"
    },
    {
     "data": {
      "text/plain": "<Figure size 432x288 with 0 Axes>"
     },
     "metadata": {},
     "output_type": "display_data"
    },
    {
     "data": {
      "text/plain": "<Figure size 432x288 with 2 Axes>",
      "image/png": "[encoded data removed]"
     },
     "metadata": {
      "needs_background": "light"
     },
     "output_type": "display_data"
    },
    {
     "data": {
      "text/plain": "<Figure size 432x288 with 0 Axes>"
     },
     "metadata": {},
     "output_type": "display_data"
    }
   ],
   "source": [
    "from sklearn.metrics import confusion_matrix,ConfusionMatrixDisplay\n",
    "\n",
    "\n",
    "#tu xay dung\n",
    "cnf_matrix = confusion_matrix(labels_test, ypred)\n",
    "print(cnf_matrix)\n",
    "disp = ConfusionMatrixDisplay(cnf_matrix,display_labels = class_names)\n",
    "disp.plot()\n",
    "plt.show()\n",
    "plt.tight_layout()\n",
    "plt.savefig('imagemodels/cfm_build',dpi=150)\n",
    "\n",
    "ypred_sklearn = svm_sklearn1.predict(image_data_test)\n",
    "cnf_matrix_sklearn = confusion_matrix(labels_test, ypred_sklearn)\n",
    "print(cnf_matrix_sklearn)\n",
    "plt.figure()\n",
    "disp = ConfusionMatrixDisplay(cnf_matrix_sklearn,display_labels = class_names)\n",
    "disp.plot()\n",
    "plt.show()\n",
    "plt.tight_layout()\n",
    "plt.savefig(\"imagemodels\\cfm_sklearn.png\",dpi=150)"
   ],
   "metadata": {
    "collapsed": false,
    "pycharm": {
     "name": "#%%\n"
    }
   }
  },
  {
   "cell_type": "code",
   "execution_count": 8,
   "outputs": [],
   "source": [
    "\n"
   ],
   "metadata": {
    "collapsed": false,
    "pycharm": {
     "name": "#%%\n"
    }
   }
  }
 ],
 "metadata": {
  "kernelspec": {
   "display_name": "Python 3",
   "language": "python",
   "name": "python3"
  },
  "language_info": {
   "codemirror_mode": {
    "name": "ipython",
    "version": 2
   },
   "file_extension": ".py",
   "mimetype": "text/x-python",
   "name": "python",
   "nbconvert_exporter": "python",
   "pygments_lexer": "ipython2",
   "version": "2.7.6"
  }
 },
 "nbformat": 4,
 "nbformat_minor": 0
}